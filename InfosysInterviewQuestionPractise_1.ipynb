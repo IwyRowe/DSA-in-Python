{
  "nbformat": 4,
  "nbformat_minor": 0,
  "metadata": {
    "colab": {
      "provenance": []
    },
    "kernelspec": {
      "name": "python3",
      "display_name": "Python 3"
    },
    "language_info": {
      "name": "python"
    }
  },
  "cells": [
    {
      "cell_type": "code",
      "execution_count": null,
      "metadata": {
        "colab": {
          "base_uri": "https://localhost:8080/",
          "height": 37
        },
        "id": "BGm0YcYBnvCm",
        "outputId": "32c83fb7-9bd3-4456-a99c-27197c4aeef4"
      },
      "outputs": [
        {
          "output_type": "execute_result",
          "data": {
            "text/plain": [
              "'apurK'"
            ],
            "application/vnd.google.colaboratory.intrinsic+json": {
              "type": "string"
            }
          },
          "metadata": {},
          "execution_count": 1
        }
      ],
      "source": [
        "x = 'Krupa'\n",
        "x[::-1]"
      ]
    },
    {
      "cell_type": "code",
      "source": [
        "set1 = {1,2,3,4,5,6,7,8,9}\n",
        "set2 = {10,20,30,40,50,60,70,80,90}\n",
        "set1.union(set2)"
      ],
      "metadata": {
        "colab": {
          "base_uri": "https://localhost:8080/"
        },
        "id": "Wc90qv2Ln8_y",
        "outputId": "ff0b1ab8-bcfb-4aa6-ea50-28a73a209395"
      },
      "execution_count": null,
      "outputs": [
        {
          "output_type": "execute_result",
          "data": {
            "text/plain": [
              "{1, 2, 3, 4, 5, 6, 7, 8, 9, 10, 20, 30, 40, 50, 60, 70, 80, 90}"
            ]
          },
          "metadata": {},
          "execution_count": 3
        }
      ]
    },
    {
      "cell_type": "code",
      "source": [
        "set1|set2"
      ],
      "metadata": {
        "colab": {
          "base_uri": "https://localhost:8080/"
        },
        "id": "8tabKB2up5eV",
        "outputId": "f43ce3ae-35f9-49f1-8ec4-f31c408b0915"
      },
      "execution_count": null,
      "outputs": [
        {
          "output_type": "execute_result",
          "data": {
            "text/plain": [
              "{1, 2, 3, 4, 5, 6, 7, 8, 9, 10, 20, 30, 40, 50, 60, 70, 80, 90}"
            ]
          },
          "metadata": {},
          "execution_count": 4
        }
      ]
    },
    {
      "cell_type": "code",
      "source": [
        "set1.intersection(set2)"
      ],
      "metadata": {
        "colab": {
          "base_uri": "https://localhost:8080/"
        },
        "id": "LESyeZaqp8DY",
        "outputId": "1ef63ef8-0abb-4902-c9c6-f9884555852f"
      },
      "execution_count": null,
      "outputs": [
        {
          "output_type": "execute_result",
          "data": {
            "text/plain": [
              "set()"
            ]
          },
          "metadata": {},
          "execution_count": 5
        }
      ]
    },
    {
      "cell_type": "code",
      "source": [
        "set1&set2"
      ],
      "metadata": {
        "colab": {
          "base_uri": "https://localhost:8080/"
        },
        "id": "ZGYh0Bfzp-LU",
        "outputId": "d70d5744-21f2-48ae-86e0-e2b832b7767a"
      },
      "execution_count": null,
      "outputs": [
        {
          "output_type": "execute_result",
          "data": {
            "text/plain": [
              "set()"
            ]
          },
          "metadata": {},
          "execution_count": 6
        }
      ]
    },
    {
      "cell_type": "code",
      "source": [
        "set1.pop()\n",
        "set1"
      ],
      "metadata": {
        "colab": {
          "base_uri": "https://localhost:8080/"
        },
        "id": "WPUi2i_7qKyw",
        "outputId": "a43d788c-2551-4559-e8b2-e1e8a9d1740f"
      },
      "execution_count": null,
      "outputs": [
        {
          "output_type": "execute_result",
          "data": {
            "text/plain": [
              "{2, 3, 4, 5, 6, 7, 8, 9}"
            ]
          },
          "metadata": {},
          "execution_count": 7
        }
      ]
    },
    {
      "cell_type": "code",
      "source": [
        "set1.add(1)"
      ],
      "metadata": {
        "id": "pVjmH9ppre_g"
      },
      "execution_count": null,
      "outputs": []
    },
    {
      "cell_type": "code",
      "source": [
        "set1"
      ],
      "metadata": {
        "colab": {
          "base_uri": "https://localhost:8080/"
        },
        "id": "VlXW18HVrh2c",
        "outputId": "bb68de55-6caa-4b35-ac38-d5d2ed865846"
      },
      "execution_count": null,
      "outputs": [
        {
          "output_type": "execute_result",
          "data": {
            "text/plain": [
              "{1, 2, 3, 4, 5, 6, 7, 8, 9}"
            ]
          },
          "metadata": {},
          "execution_count": 9
        }
      ]
    },
    {
      "cell_type": "code",
      "source": [
        "import math\n",
        "math.pi"
      ],
      "metadata": {
        "colab": {
          "base_uri": "https://localhost:8080/"
        },
        "id": "8bJI09ierkZx",
        "outputId": "1dc1023a-9d8b-41bf-ff51-bbba0a295396"
      },
      "execution_count": null,
      "outputs": [
        {
          "output_type": "execute_result",
          "data": {
            "text/plain": [
              "3.141592653589793"
            ]
          },
          "metadata": {},
          "execution_count": 11
        }
      ]
    },
    {
      "cell_type": "code",
      "source": [
        "1/2 * 2 # + 1"
      ],
      "metadata": {
        "colab": {
          "base_uri": "https://localhost:8080/"
        },
        "id": "b1QZ1FgLsI9Y",
        "outputId": "130d3fa2-ba32-4103-b617-d506a5d46021"
      },
      "execution_count": null,
      "outputs": [
        {
          "output_type": "execute_result",
          "data": {
            "text/plain": [
              "1.0"
            ]
          },
          "metadata": {},
          "execution_count": 12
        }
      ]
    },
    {
      "cell_type": "code",
      "source": [
        "a = 6/2  \n",
        "b = 5 // 2 \n",
        "c = 6.5 * 2\n",
        "a,b,c"
      ],
      "metadata": {
        "colab": {
          "base_uri": "https://localhost:8080/"
        },
        "id": "VYmiYel_tfY3",
        "outputId": "af5daaae-5b42-4ba1-a661-7f763ae87297"
      },
      "execution_count": null,
      "outputs": [
        {
          "output_type": "execute_result",
          "data": {
            "text/plain": [
              "(3.0, 2, 13.0)"
            ]
          },
          "metadata": {},
          "execution_count": 13
        }
      ]
    },
    {
      "cell_type": "code",
      "source": [
        "16 // 6"
      ],
      "metadata": {
        "colab": {
          "base_uri": "https://localhost:8080/"
        },
        "id": "eCNlp0Eetvez",
        "outputId": "036a1630-7cbf-4c9b-b612-24d17f70b885"
      },
      "execution_count": null,
      "outputs": [
        {
          "output_type": "execute_result",
          "data": {
            "text/plain": [
              "2"
            ]
          },
          "metadata": {},
          "execution_count": 14
        }
      ]
    },
    {
      "cell_type": "code",
      "source": [
        "111 % 7"
      ],
      "metadata": {
        "colab": {
          "base_uri": "https://localhost:8080/"
        },
        "id": "NtKfiiVzt0BD",
        "outputId": "edcf8fc8-4bdb-4f18-eb31-cb339d7c3bec"
      },
      "execution_count": null,
      "outputs": [
        {
          "output_type": "execute_result",
          "data": {
            "text/plain": [
              "6"
            ]
          },
          "metadata": {},
          "execution_count": 15
        }
      ]
    },
    {
      "cell_type": "code",
      "source": [
        "# fibonacci series\n",
        "FibArray = [0, 1]\n",
        " \n",
        "def fibonacci(n):\n",
        "    if n < 0:\n",
        "        print(\"Incorrect input\")\n",
        "    elif n < len(FibArray):\n",
        "        return FibArray[n]\n",
        "    else:       \n",
        "        FibArray.append(fibonacci(n - 1) + fibonacci(n - 2))\n",
        "        return FibArray[n]\n",
        "\n",
        "n = int(input())\n",
        "fibonacci(n)\n",
        "print(FibArray)"
      ],
      "metadata": {
        "colab": {
          "base_uri": "https://localhost:8080/"
        },
        "id": "6o5ZlOIy4A8U",
        "outputId": "9ba254aa-520c-4ccc-8357-130b5e2cad7c"
      },
      "execution_count": null,
      "outputs": [
        {
          "output_type": "stream",
          "name": "stdout",
          "text": [
            "5\n",
            "[0, 1, 1, 2, 3, 5]\n"
          ]
        }
      ]
    },
    {
      "cell_type": "code",
      "source": [
        "#factorial\n",
        "def fact(n):\n",
        "  if n == 0 or n == 1:\n",
        "    return 1\n",
        "  else:\n",
        "    return n*fact(n-1)\n",
        "\n",
        "n = int(input())\n",
        "print(fact(n))\n"
      ],
      "metadata": {
        "colab": {
          "base_uri": "https://localhost:8080/"
        },
        "id": "kY5tnaNS8GlS",
        "outputId": "d18b72cf-f0de-4d76-d939-7dd6fa2fc29b"
      },
      "execution_count": null,
      "outputs": [
        {
          "output_type": "stream",
          "name": "stdout",
          "text": [
            "4\n",
            "24\n"
          ]
        }
      ]
    },
    {
      "cell_type": "code",
      "source": [
        "# list to string\n",
        "x = ['k','r','u','p','a']\n",
        "xtostr = \"\".join(x)\n",
        "print(xtostr)"
      ],
      "metadata": {
        "colab": {
          "base_uri": "https://localhost:8080/"
        },
        "id": "qBQU6r2h819J",
        "outputId": "8781f1db-ab90-48f0-c883-28482c8f4e0a"
      },
      "execution_count": null,
      "outputs": [
        {
          "output_type": "stream",
          "name": "stdout",
          "text": [
            "krupa\n"
          ]
        }
      ]
    },
    {
      "cell_type": "code",
      "source": [
        "# string to list\n",
        "string = \"My name is Krupa\"\n",
        "stringtolist = string.split(\" \")\n",
        "print(stringtolist)"
      ],
      "metadata": {
        "colab": {
          "base_uri": "https://localhost:8080/"
        },
        "id": "puR2tUlw9_p-",
        "outputId": "4ac75327-9eca-4e92-9fb9-32dd2d62e897"
      },
      "execution_count": null,
      "outputs": [
        {
          "output_type": "stream",
          "name": "stdout",
          "text": [
            "['My', 'name', 'is', 'Krupa']\n"
          ]
        }
      ]
    },
    {
      "cell_type": "code",
      "source": [
        "# get unique charecters in string\n",
        "word = \"New York City\"\n",
        "print(set(word))"
      ],
      "metadata": {
        "colab": {
          "base_uri": "https://localhost:8080/"
        },
        "id": "ksj4etiD-ZEO",
        "outputId": "45eb8e4c-cc32-4b1c-9055-8727c6f135a6"
      },
      "execution_count": null,
      "outputs": [
        {
          "output_type": "stream",
          "name": "stdout",
          "text": [
            "{'C', 'r', 'o', 'Y', 'i', 't', 'e', 'N', ' ', 'w', 'y', 'k'}\n"
          ]
        }
      ]
    },
    {
      "cell_type": "code",
      "source": [
        "s = set(word)\n",
        "s.discard(\" \")\n",
        "s"
      ],
      "metadata": {
        "colab": {
          "base_uri": "https://localhost:8080/"
        },
        "id": "M3Wu26To-7gB",
        "outputId": "71988a3c-b0f7-41f2-9206-36b4c1f4993e"
      },
      "execution_count": null,
      "outputs": [
        {
          "output_type": "execute_result",
          "data": {
            "text/plain": [
              "{'C', 'N', 'Y', 'e', 'i', 'k', 'o', 'r', 't', 'w', 'y'}"
            ]
          },
          "metadata": {},
          "execution_count": 42
        }
      ]
    },
    {
      "cell_type": "code",
      "source": [
        "word = 'infosys'\n",
        "wl = [i for i in word]\n",
        "wl.sort()\n",
        "wl"
      ],
      "metadata": {
        "colab": {
          "base_uri": "https://localhost:8080/"
        },
        "id": "Y7tAiqcj_Fuw",
        "outputId": "0f7ea2b7-aa33-4b99-ee39-f827fa137ddb"
      },
      "execution_count": null,
      "outputs": [
        {
          "output_type": "execute_result",
          "data": {
            "text/plain": [
              "['f', 'i', 'n', 'o', 's', 's', 'y']"
            ]
          },
          "metadata": {},
          "execution_count": 45
        }
      ]
    },
    {
      "cell_type": "code",
      "source": [
        "# sort string of charecters\n",
        "\n",
        "word = 'infosys'\n",
        "ws = set(word)\n",
        "print(sorted(ws))"
      ],
      "metadata": {
        "colab": {
          "base_uri": "https://localhost:8080/"
        },
        "id": "rZ9n3gE1_2P4",
        "outputId": "f2f18245-2c8e-4c29-d83d-71d8b8711c43"
      },
      "execution_count": null,
      "outputs": [
        {
          "output_type": "stream",
          "name": "stdout",
          "text": [
            "['f', 'i', 'n', 'o', 's', 'y']\n"
          ]
        }
      ]
    },
    {
      "cell_type": "code",
      "source": [
        "# swap strings\n",
        "a = \"Ambala\"\n",
        "b = \"Bangalore\"\n",
        "a,b = b,a\n",
        "print(a,b)"
      ],
      "metadata": {
        "colab": {
          "base_uri": "https://localhost:8080/"
        },
        "id": "V4asSs9DAchW",
        "outputId": "5eb6c066-ded0-4c9a-ee00-0b76be786127"
      },
      "execution_count": null,
      "outputs": [
        {
          "output_type": "stream",
          "name": "stdout",
          "text": [
            "Bangalore Ambala\n"
          ]
        }
      ]
    },
    {
      "cell_type": "code",
      "source": [
        "# swap 2 arrays of same size\n",
        "a = [1,2,3,4]\n",
        "b = [5,6,7,8]\n",
        "if(len(a)==len(b)):\n",
        "  a,b=b,a\n",
        "print(a,b)"
      ],
      "metadata": {
        "colab": {
          "base_uri": "https://localhost:8080/"
        },
        "id": "8l9nRjkTAm8r",
        "outputId": "b8a0b3dc-4ac3-475a-debb-eb6515ffd6d8"
      },
      "execution_count": null,
      "outputs": [
        {
          "output_type": "stream",
          "name": "stdout",
          "text": [
            "[5, 6, 7, 8] [1, 2, 3, 4]\n"
          ]
        }
      ]
    },
    {
      "cell_type": "code",
      "source": [
        "# Check a number is palindrome or not\n",
        "n = 986324765\n",
        "s = str(n)\n",
        "if s == s[::-1]:\n",
        "  print(\"Palindrome\")\n",
        "else:\n",
        "  print(\"Not a Palindrome\")"
      ],
      "metadata": {
        "colab": {
          "base_uri": "https://localhost:8080/"
        },
        "id": "mvxpANtEBAyg",
        "outputId": "615eefac-44b0-4a7a-970e-1a2e16ddffc3"
      },
      "execution_count": null,
      "outputs": [
        {
          "output_type": "stream",
          "name": "stdout",
          "text": [
            "Not a Palindrome\n"
          ]
        }
      ]
    },
    {
      "cell_type": "code",
      "source": [
        "# convert decimal to any form\n",
        "dec = 109\n",
        "\n",
        "print(bin(dec),oct(dec),hex(dec))"
      ],
      "metadata": {
        "colab": {
          "base_uri": "https://localhost:8080/"
        },
        "id": "nyb8VhxIBfeD",
        "outputId": "8d1cef7f-06ca-40a3-84a2-5961dbe89a5d"
      },
      "execution_count": null,
      "outputs": [
        {
          "output_type": "stream",
          "name": "stdout",
          "text": [
            "0b1101101 0o155 0x6d\n"
          ]
        }
      ]
    },
    {
      "cell_type": "code",
      "source": [
        "# convert any form to decimal\n",
        "bin = 1011\n",
        "oct = 876\n",
        "#hex = 6A\n",
        "\n",
        "bindec = ((1*(2**3))+(0*(2**2))+(1*(2**1))+(1*(2**0)))\n",
        "octdec = ((7*(8**2))+(7*(8**1))+(6*(8**0)))\n",
        "#hexdec = ((6*(16**1))+(A*(16**0)))\n",
        "print(bindec,octdec)"
      ],
      "metadata": {
        "colab": {
          "base_uri": "https://localhost:8080/"
        },
        "id": "dRQN9elfCfNq",
        "outputId": "10d7637d-db27-4835-b948-bee8e56eb962"
      },
      "execution_count": null,
      "outputs": [
        {
          "output_type": "stream",
          "name": "stdout",
          "text": [
            "11 510\n"
          ]
        }
      ]
    }
  ]
}