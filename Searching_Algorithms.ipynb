{
  "nbformat": 4,
  "nbformat_minor": 0,
  "metadata": {
    "colab": {
      "provenance": []
    },
    "kernelspec": {
      "name": "python3",
      "display_name": "Python 3"
    },
    "language_info": {
      "name": "python"
    }
  },
  "cells": [
    {
      "cell_type": "markdown",
      "source": [
        "# Linear Search"
      ],
      "metadata": {
        "id": "EnlzP96gL4aL"
      }
    },
    {
      "cell_type": "code",
      "source": [
        "def linearSearch(lst,e):\n",
        "  for i in range(len(lst)):\n",
        "    if lst[i]==e:\n",
        "      return i\n",
        "  else:\n",
        "    return -1\n",
        "\n",
        "lst = list(map(int,input().split()))\n",
        "e = int(input())\n",
        "result = linearSearch(lst,e)\n",
        "if result == -1:\n",
        "  print(\"Not in the list\")\n",
        "else:\n",
        "  print(\"Found in {} index\".format(result))"
      ],
      "metadata": {
        "colab": {
          "base_uri": "https://localhost:8080/"
        },
        "id": "j58AY4AxMuMx",
        "outputId": "23ea8a7b-ce23-429a-c0bf-caca4ebc2f8c"
      },
      "execution_count": 5,
      "outputs": [
        {
          "output_type": "stream",
          "name": "stdout",
          "text": [
            "1 2 3 4 5\n",
            "4\n",
            "Found in 3 index\n"
          ]
        }
      ]
    },
    {
      "cell_type": "markdown",
      "source": [
        "# Binary Search"
      ],
      "metadata": {
        "id": "Ubt-QbIKNFQp"
      }
    },
    {
      "cell_type": "code",
      "source": [
        "\n",
        "# Iterative method\n",
        "\n",
        "def binarySearch(lst,e,low,high):\n",
        "  while low <= high:\n",
        "\n",
        "        mid = low + (high - low)//2\n",
        "\n",
        "        if lst[mid] == e:\n",
        "            return mid\n",
        "\n",
        "        elif lst[mid] < e:\n",
        "            low = mid + 1\n",
        "\n",
        "        else:\n",
        "            high = mid - 1\n",
        "  \n",
        "  return -1\n",
        "\n",
        "lst = list(map(int,input().split()))\n",
        "e = int(input())\n",
        "result = binarySearch(lst,e,0,len(lst))\n",
        "if result == -1:\n",
        "  print(\"Not in the list\")\n",
        "else:\n",
        "  print(\"Found in {} index\".format(result))"
      ],
      "metadata": {
        "colab": {
          "base_uri": "https://localhost:8080/"
        },
        "id": "AjMMCzvJNEwp",
        "outputId": "c99c09f0-ce8d-44ac-d12b-489ae9e4f5f1"
      },
      "execution_count": 8,
      "outputs": [
        {
          "output_type": "stream",
          "name": "stdout",
          "text": [
            "1 2 3 4\n",
            "2\n",
            "Found in 1 index\n"
          ]
        }
      ]
    },
    {
      "cell_type": "code",
      "source": [
        "# Recursive Method\n",
        "\n",
        "def binarySearch(lst,e,low,high):\n",
        "  if high>=low:\n",
        "    mid = low + (high-low)//2\n",
        "    if lst[mid] == e:\n",
        "      return mid\n",
        "    elif lst[mid]>e:\n",
        "      return binarySearch(lst,e,low,mid-1)\n",
        "    else:\n",
        "      return binarySearch(lst,2,mid+1,high)\n",
        "  else:\n",
        "    return -1\n",
        "    \n",
        "lst = list(map(int,input().split()))\n",
        "e = int(input())\n",
        "result = binarySearch(lst,e,0,len(lst))\n",
        "if result == -1:\n",
        "  print(\"Not in the list\")\n",
        "else:\n",
        "  print(\"Found in {} index\".format(result))"
      ],
      "metadata": {
        "colab": {
          "base_uri": "https://localhost:8080/"
        },
        "id": "hfnuO826NhYT",
        "outputId": "1639f26b-da77-477a-a368-d00e8ce6ab4d"
      },
      "execution_count": 7,
      "outputs": [
        {
          "output_type": "stream",
          "name": "stdout",
          "text": [
            "1 2 3 4\n",
            "3\n",
            "Found in 2 index\n"
          ]
        }
      ]
    }
  ]
}