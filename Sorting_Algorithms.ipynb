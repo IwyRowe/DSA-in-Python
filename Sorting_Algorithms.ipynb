{
  "nbformat": 4,
  "nbformat_minor": 0,
  "metadata": {
    "colab": {
      "provenance": [],
      "authorship_tag": "ABX9TyM3LSY4efI3ZQ29/Qgh5fT/",
      "include_colab_link": true
    },
    "kernelspec": {
      "name": "python3",
      "display_name": "Python 3"
    },
    "language_info": {
      "name": "python"
    }
  },
  "cells": [
    {
      "cell_type": "markdown",
      "metadata": {
        "id": "view-in-github",
        "colab_type": "text"
      },
      "source": [
        "<a href=\"https://colab.research.google.com/github/IwyRowe/DSA-in-Python/blob/main/Sorting_Algorithms.ipynb\" target=\"_parent\"><img src=\"https://colab.research.google.com/assets/colab-badge.svg\" alt=\"Open In Colab\"/></a>"
      ]
    },
    {
      "cell_type": "markdown",
      "source": [
        "#  Bubble Sort"
      ],
      "metadata": {
        "id": "APXVQ-SKWuef"
      }
    },
    {
      "cell_type": "code",
      "execution_count": 6,
      "metadata": {
        "colab": {
          "base_uri": "https://localhost:8080/"
        },
        "id": "FdCTmMaMVS1_",
        "outputId": "501e56d6-eab9-4b65-e67f-f544e564edd1"
      },
      "outputs": [
        {
          "output_type": "stream",
          "name": "stdout",
          "text": [
            "8 0 5 2\n",
            "Sorted array in ascending order: \n",
            "[0, 2, 5, 8]\n"
          ]
        }
      ],
      "source": [
        "def bubbleSort(lst):\n",
        "  for i in range(len(lst)):\n",
        "\n",
        "    swapped = False\n",
        "\n",
        "    for j in range(0, len(lst) - i - 1):\n",
        "      if lst[j] > lst[j + 1]:\n",
        "        lst[j],lst[j+1] = lst[j+1],lst[j]\n",
        "        swapped = True\n",
        "\n",
        "    if not swapped:\n",
        "      break\n",
        "\n",
        "lst = list(map(int,input().split()))\n",
        "bubbleSort(lst)\n",
        "print(\"Sorted array in ascending order: \")\n",
        "print(lst)"
      ]
    },
    {
      "cell_type": "markdown",
      "source": [
        "# Selection Sort"
      ],
      "metadata": {
        "id": "rxcG45MLZDQg"
      }
    },
    {
      "cell_type": "code",
      "source": [
        "def selectionSort(lst):\n",
        "   \n",
        "    for step in range(len(lst)):\n",
        "        min_idx = step\n",
        "\n",
        "        for i in range(step + 1, len(lst)):\n",
        "            if lst[i] < lst[min_idx]:\n",
        "                min_idx = i\n",
        "         \n",
        "        (lst[step], lst[min_idx]) = (lst[min_idx], lst[step])\n",
        "\n",
        "lst = list(map(int,input().split()))\n",
        "selectionSort(lst)\n",
        "print(\"Sorted array in ascending order: \")\n",
        "print(lst)"
      ],
      "metadata": {
        "colab": {
          "base_uri": "https://localhost:8080/"
        },
        "id": "7aw3_M_WakV0",
        "outputId": "c0383a6f-bb36-4487-c7ec-577dc7b061e2"
      },
      "execution_count": 7,
      "outputs": [
        {
          "output_type": "stream",
          "name": "stdout",
          "text": [
            "8 0 5 2\n",
            "Sorted array in ascending order: \n",
            "[0, 2, 5, 8]\n"
          ]
        }
      ]
    },
    {
      "cell_type": "markdown",
      "source": [
        "# Insertion Sort"
      ],
      "metadata": {
        "id": "AvU0bh91Z3IU"
      }
    },
    {
      "cell_type": "code",
      "source": [
        "def insertionSort(lst):\n",
        "\n",
        "    for step in range(1, len(lst)):\n",
        "        key = lst[step]\n",
        "        j = step - 1      \n",
        "        while j >= 0 and key < lst[j]:\n",
        "            lst[j + 1] = lst[j]\n",
        "            j = j - 1\n",
        "        \n",
        "        lst[j + 1] = key\n",
        "\n",
        "lst = list(map(int,input().split()))\n",
        "insertionSort(lst)\n",
        "print(\"Sorted array in ascending order: \")\n",
        "print(lst)"
      ],
      "metadata": {
        "colab": {
          "base_uri": "https://localhost:8080/"
        },
        "id": "uPCu7XThbGxL",
        "outputId": "48db761d-b4e6-46dd-e0d9-97c524b34dae"
      },
      "execution_count": 8,
      "outputs": [
        {
          "output_type": "stream",
          "name": "stdout",
          "text": [
            "8 0 5 2\n",
            "Sorted array in ascending order: \n",
            "[0, 2, 5, 8]\n"
          ]
        }
      ]
    },
    {
      "cell_type": "markdown",
      "source": [
        "# Merge Sort"
      ],
      "metadata": {
        "id": "lrZMBlhmZ5OK"
      }
    },
    {
      "cell_type": "code",
      "source": [
        "def merge(arr, l, m, r):\n",
        "    n1 = m - l + 1\n",
        "    n2 = r - m\n",
        " \n",
        "    L = [0] * (n1)\n",
        "    R = [0] * (n2)\n",
        " \n",
        "    for i in range(0, n1):\n",
        "        L[i] = arr[l + i]\n",
        " \n",
        "    for j in range(0, n2):\n",
        "        R[j] = arr[m + 1 + j]\n",
        " \n",
        "    i = 0     # Initial index of first subarray\n",
        "    j = 0     # Initial index of second subarray\n",
        "    k = l     # Initial index of merged subarray\n",
        " \n",
        "    while i < n1 and j < n2:\n",
        "        if L[i] <= R[j]:\n",
        "            arr[k] = L[i]\n",
        "            i += 1\n",
        "        else:\n",
        "            arr[k] = R[j]\n",
        "            j += 1\n",
        "        k += 1\n",
        "    while i < n1:\n",
        "        arr[k] = L[i]\n",
        "        i += 1\n",
        "        k += 1\n",
        "    while j < n2:\n",
        "        arr[k] = R[j]\n",
        "        j += 1\n",
        "        k += 1\n",
        " \n",
        "def mergeSort(arr, l, r):\n",
        "    if l < r:\n",
        "        m = l+(r-l)//2\n",
        " \n",
        "        mergeSort(arr, l, m)\n",
        "        mergeSort(arr, m+1, r)\n",
        "        merge(arr, l, m, r)\n",
        " \n",
        "arr = list(map(int,input().split()))\n",
        "n = len(arr)\n",
        "mergeSort(arr, 0, n-1)\n",
        "print(\"\\n\\nSorted array is\")\n",
        "for i in range(n):\n",
        "    print(\"%d\" % arr[i],end=\" \")"
      ],
      "metadata": {
        "colab": {
          "base_uri": "https://localhost:8080/"
        },
        "id": "t8L8xJGYbpzF",
        "outputId": "d9f5eb15-7196-4fcd-dd75-4fc11c1d1d07"
      },
      "execution_count": 9,
      "outputs": [
        {
          "output_type": "stream",
          "name": "stdout",
          "text": [
            "8 0 5 2\n",
            "\n",
            "\n",
            "Sorted array is\n",
            "0 2 5 8 "
          ]
        }
      ]
    },
    {
      "cell_type": "markdown",
      "source": [
        "# Heap Sort"
      ],
      "metadata": {
        "id": "vEIADYScaCvl"
      }
    },
    {
      "cell_type": "code",
      "source": [
        "def heapify(arr, n, i):\n",
        "      largest = i\n",
        "      l = 2 * i + 1\n",
        "      r = 2 * i + 2\n",
        "  \n",
        "      if l < n and arr[i] < arr[l]:\n",
        "          largest = l\n",
        "  \n",
        "      if r < n and arr[largest] < arr[r]:\n",
        "          largest = r\n",
        "  \n",
        "      if largest != i:\n",
        "          arr[i], arr[largest] = arr[largest], arr[i]\n",
        "          heapify(arr, n, largest)\n",
        "  \n",
        "  \n",
        "def heapSort(arr):\n",
        "      n = len(arr)\n",
        "  \n",
        "      for i in range(n//2, -1, -1):\n",
        "          heapify(arr, n, i)\n",
        "  \n",
        "      for i in range(n-1, 0, -1):\n",
        "          arr[i], arr[0] = arr[0], arr[i]\n",
        "          heapify(arr, i, 0)\n",
        "  \n",
        "  \n",
        "arr = list(map(int,input().split()))\n",
        "heapSort(arr)\n",
        "n = len(arr)\n",
        "print(\"Sorted array is\")\n",
        "for i in range(n):\n",
        "    print(\"%d \" % arr[i], end='')\n",
        "  "
      ],
      "metadata": {
        "colab": {
          "base_uri": "https://localhost:8080/"
        },
        "id": "ngxsM1GGdzfr",
        "outputId": "068da69a-eed9-44f1-c6de-fc004bf17b4c"
      },
      "execution_count": 11,
      "outputs": [
        {
          "output_type": "stream",
          "name": "stdout",
          "text": [
            "8 0 5 2\n",
            "Sorted array is\n",
            "0 2 5 8 "
          ]
        }
      ]
    },
    {
      "cell_type": "markdown",
      "source": [
        "# Quick Sort"
      ],
      "metadata": {
        "id": "uFGuw2qkeeCx"
      }
    },
    {
      "cell_type": "code",
      "source": [
        "def partition(array, low, high):\n",
        "\n",
        "  pivot = array[high]\n",
        "\n",
        "  i = low - 1\n",
        "  for j in range(low, high):\n",
        "    if array[j] <= pivot:\n",
        "      i = i + 1\n",
        "\n",
        "      (array[i], array[j]) = (array[j], array[i])\n",
        "\n",
        "  (array[i + 1], array[high]) = (array[high], array[i + 1])\n",
        "\n",
        "  return i + 1\n",
        "\n",
        "def quickSort(array, low, high):\n",
        "  if low < high:\n",
        "    pi = partition(array, low, high)\n",
        "    quickSort(array, low, pi - 1)\n",
        "    quickSort(array, pi + 1, high)\n",
        "\n",
        "\n",
        "data = list(map(int,input().split()))\n",
        "size = len(data)\n",
        "\n",
        "quickSort(data, 0, size - 1)\n",
        "\n",
        "print('Sorted Array in Ascending Order:')\n",
        "print(data)"
      ],
      "metadata": {
        "colab": {
          "base_uri": "https://localhost:8080/"
        },
        "id": "UzfeHxGQehJd",
        "outputId": "997d7c48-74da-4da1-b8b1-7b7ac3daa5bf"
      },
      "execution_count": 12,
      "outputs": [
        {
          "output_type": "stream",
          "name": "stdout",
          "text": [
            "8 0 5 3\n",
            "Sorted Array in Ascending Order:\n",
            "[0, 3, 5, 8]\n"
          ]
        }
      ]
    }
  ]
}